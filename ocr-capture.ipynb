{
 "cells": [
  {
   "cell_type": "code",
   "execution_count": null,
   "id": "43d7bcb8",
   "metadata": {},
   "outputs": [],
   "source": [
    "# !pip install tesseract\n",
    "# !pip install pytesseract\n",
    "\n",
    "## apt install tesseract-ocr -y\n",
    "#!pip install Pillow\n",
    "# !pip install pyscreeze"
   ]
  },
  {
   "cell_type": "code",
   "execution_count": null,
   "id": "5dd0603d",
   "metadata": {},
   "outputs": [],
   "source": [
    "import pyscreeze\n",
    "im = pyscreeze.screenshot(region=(0,0, 300, 400))\n",
    "im.save('a.png')"
   ]
  },
  {
   "cell_type": "code",
   "execution_count": 20,
   "id": "b729ad00",
   "metadata": {},
   "outputs": [
    {
     "name": "stdout",
     "output_type": "stream",
     "text": [
      " \n",
      "\n",
      "05/10/2023 16:12:17 VIX 230517 20.00C 0.520 1.44K 74,.88K Active Sales 155.88% 16.920\n",
      "05/10/2023 16:11:25 XLF 230519 30.00P 0.040 29.7K 118.8K Neutral 27.80% 32.080\n",
      "05/10/2023 16:11:25 XLF 230623 28.00P 0.150 39.6K 594K Neutral 30.43% 32.080\n",
      "05/10/2023 16:11:25 XLF 230623 30.00P 0.360 39.3K 1.41M Neutral 25.69% 32.080\n",
      "05/10/2023 16:11:25 XLF 230519 32.00P 0.330 29.7K 980.1K Active Sales 19.23% 32.080\n",
      "05/10/2023 16:10:39 SPY 230616 393.00P 3.110 2.79K 866.45K Active Buys 19.56% 412.850\n",
      "05/10/2023 16:10:39 SPY 230616 389.00P 2.590 2.79K 721.57K Active Sales 20.49% 412.850\n",
      "05/10/2023 16:10:38 SPY 230616 393.00P 3.110 2.79K 866.45K Active Buys 19.56% 412.850\n",
      "05/10/2023 16:10:38 SPY 230616 389.00P 2.590 2.79K 721.57K Active Sales 20.49% 412.850\n",
      "05/10/2023 16:10:38 SPY 230616 389.00P 2.590 2.79K 721.57K Active Sales 20.49% 412.850\n",
      "05/10/2023 16:10:38 SPY 230616 389.00P 2.590 2.79K 721.57K Active Sales 20.49% 412.850\n",
      "05/10/2023 16:10:38 SPY 230616 389.00P 2.590 2.79K 721.57K Active Sales 20.49% 412.850\n",
      "05/10/2023 16:10:38 SPY 230616 393.00P 3.110 2.79K 866.45K Active Buys 19.56% 412.850\n",
      "05/10/2023 16:10:38 SPY 230616 393.00P 3.110 2.79K 866.45K Active Buys 19.56% 412.850\n",
      "05/10/2023 16:10:38 SPY 230616 393.00P 3.110 2.79K 866.45K Active Buys 19.56% 412.850\n",
      "05/10/2023 16:10:38 SPY 230616 393.00P 3.110 2.79K 866.45K Active Buys 19.56% 412.850\n",
      "05/10/2023 16:10:38 SPY 230616 389.00P 2.590 2.79K 721.57K Active Sales 20.49% 412.850\n",
      "05/10/2023 16:10:24 SPY 230616 393.00P 3.100 1.5K 464.38K Active Buys 19.56% 412.850\n",
      "05/10/2023 16:10:24 SPY 230616 389.00P 2.590 1.5K 387.98K Active Sales 20.49% 412.850\n",
      "05/10/2023 16:10:22 SPY 230616 393.00P 3.100 1.5K 465K Active Buys 19.56% 412.850\n",
      "05/10/2023 16:10:22 SPY 230616 389.00P 2.590 1.5K 388.5K Active Sales 20.49% 412.850\n",
      "05/10/2023 16:10:22 SPY 230616 389.00P 2.590 4.5K 1.17M Active Sales 20.49% 412.850\n",
      "05/10/2023 16:10:22 SPY 230616 393.00P 3.100 4.5K 1.4M Active Buys 19.56% 412.850\n",
      "05/10/2023 16:10:22 SPY 230616 389.00P 2.590 3.5K 906.5K Active Sales 20.49% 412.850\n",
      "\f",
      "\n"
     ]
    }
   ],
   "source": [
    "import pytesseract\n",
    "from PIL import Image\n",
    " \n",
    "# Open the image file\n",
    "img = Image.open('w.png')\n",
    " \n",
    "# Perform OCR using PyTesseract\n",
    "text = pytesseract.image_to_string(img)\n",
    " \n",
    "# Print the extracted text\n",
    "print(text)"
   ]
  }
 ],
 "metadata": {
  "kernelspec": {
   "display_name": "Python 3 (ipykernel)",
   "language": "python",
   "name": "python3"
  },
  "language_info": {
   "codemirror_mode": {
    "name": "ipython",
    "version": 3
   },
   "file_extension": ".py",
   "mimetype": "text/x-python",
   "name": "python",
   "nbconvert_exporter": "python",
   "pygments_lexer": "ipython3",
   "version": "3.9.7"
  }
 },
 "nbformat": 4,
 "nbformat_minor": 5
}
